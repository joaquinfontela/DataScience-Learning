{
 "cells": [
  {
   "cell_type": "code",
   "execution_count": 1,
   "id": "250ae1e1",
   "metadata": {},
   "outputs": [],
   "source": [
    "%matplotlib inline\n",
    "\n",
    "import numpy as np\n",
    "import matplotlib.pyplot as plt\n",
    "\n",
    "import seaborn as sns"
   ]
  },
  {
   "cell_type": "code",
   "execution_count": 2,
   "id": "80939b2c",
   "metadata": {},
   "outputs": [
    {
     "name": "stdout",
     "output_type": "stream",
     "text": [
      "[2 7]\n",
      "[3 5]\n"
     ]
    }
   ],
   "source": [
    "v1 = np.array([2,7])\n",
    "v2 = np.array([3,5])\n",
    "\n",
    "print(v1)\n",
    "print(v2)"
   ]
  },
  {
   "cell_type": "code",
   "execution_count": 3,
   "id": "69bd673e",
   "metadata": {},
   "outputs": [
    {
     "name": "stdout",
     "output_type": "stream",
     "text": [
      "[ 5 12]\n"
     ]
    }
   ],
   "source": [
    "v3 = v1 + v2\n",
    "print(v3)"
   ]
  },
  {
   "cell_type": "code",
   "execution_count": 5,
   "id": "8ff02d2a",
   "metadata": {},
   "outputs": [
    {
     "data": {
      "text/plain": [
       "13.0"
      ]
     },
     "execution_count": 5,
     "metadata": {},
     "output_type": "execute_result"
    }
   ],
   "source": [
    "np.linalg.norm(v3)"
   ]
  },
  {
   "cell_type": "markdown",
   "id": "f024a1f3",
   "metadata": {},
   "source": [
    "### Desigualdad triangular indica que:\n",
    "#### v3 = v1 + v2  ==>  norm(v3) <= norm(v1) + norm(v2)"
   ]
  },
  {
   "cell_type": "code",
   "execution_count": 6,
   "id": "6c09ef61",
   "metadata": {},
   "outputs": [
    {
     "name": "stdout",
     "output_type": "stream",
     "text": [
      "True\n"
     ]
    }
   ],
   "source": [
    "norma_v1 = np.linalg.norm(v1)\n",
    "norma_v2 = np.linalg.norm(v2)\n",
    "norma_v3 = np.linalg.norm(v3)\n",
    "\n",
    "print(norma_v3 <= norma_v1 + norma_v2)"
   ]
  },
  {
   "cell_type": "code",
   "execution_count": 7,
   "id": "316f3226",
   "metadata": {},
   "outputs": [
    {
     "name": "stdout",
     "output_type": "stream",
     "text": [
      "13.11106178412582\n",
      "13.0\n"
     ]
    }
   ],
   "source": [
    "print(norma_v1 + norma_v2)\n",
    "print(norma_v3)"
   ]
  },
  {
   "cell_type": "markdown",
   "id": "44a21582",
   "metadata": {},
   "source": [
    "### Solo se cumple la igualdad en la propiedad de desigualdad triangular cuando:\n",
    "#### v1 = k.v2"
   ]
  },
  {
   "cell_type": "code",
   "execution_count": 15,
   "id": "085eafd4",
   "metadata": {},
   "outputs": [],
   "source": [
    "origin = [0,0]\n",
    "v1 = np.array([2,7])\n",
    "v2 = np.array([3,5])\n",
    "\n",
    "v2_from_v1 = np.array([v1[0], v1[1], v2[0], v2[1]])\n",
    "v3 = v1 + v2"
   ]
  },
  {
   "cell_type": "code",
   "execution_count": 16,
   "id": "8ff35c54",
   "metadata": {},
   "outputs": [
    {
     "data": {
      "text/plain": [
       "(-0.5, 15.0)"
      ]
     },
     "execution_count": 16,
     "metadata": {},
     "output_type": "execute_result"
    },
    {
     "data": {
      "image/png": "[encoded data removed]",
      "text/plain": [
       "<Figure size 432x288 with 1 Axes>"
      ]
     },
     "metadata": {
      "needs_background": "light"
     },
     "output_type": "display_data"
    }
   ],
   "source": [
    "plt.quiver([origin[0], v2_from_v1[0], origin[0], origin[0]],   # los origenes de cada vector en x.\n",
    "           [origin[1], v2_from_v1[1], origin[1], origin[1]],   # los origenes de cada vector en y.\n",
    "           [v1[0],     v2_from_v1[2], v3[0],     v2[0]],       # los destinos de cada vector en x.\n",
    "           [v1[1],     v2_from_v1[3], v3[1],     v2[1]],       # los destinos de cada vector en y.\n",
    "           angles = 'xy',\n",
    "           scale_units = 'xy',\n",
    "           scale = 1,\n",
    "           color = sns.color_palette())\n",
    "\n",
    "plt.xlim(-0.5, 6)\n",
    "plt.ylim(-0.5, 15)"
   ]
  }
 ],
 "metadata": {
  "kernelspec": {
   "display_name": "Python 3.8.10 64-bit",
   "language": "python",
   "name": "python3810jvsc74a57bd031f2aee4e71d21fbe5cf8b01ff0e069b9275f58929596ceb00d14d90e3e16cd6"
  },
  "language_info": {
   "codemirror_mode": {
    "name": "ipython",
    "version": 3
   },
   "file_extension": ".py",
   "mimetype": "text/x-python",
   "name": "python",
   "nbconvert_exporter": "python",
   "pygments_lexer": "ipython3",
   "version": "3.8.10"
  }
 },
 "nbformat": 4,
 "nbformat_minor": 5
}
