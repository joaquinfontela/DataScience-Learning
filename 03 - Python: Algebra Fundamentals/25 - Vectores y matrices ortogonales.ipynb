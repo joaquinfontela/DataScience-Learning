{
 "cells": [
  {
   "cell_type": "markdown",
   "id": "a12c6808",
   "metadata": {},
   "source": [
    "### Dos vectores son ortogonales entre sí sii el ángulo que forman es de 90 grados."
   ]
  },
  {
   "cell_type": "code",
   "execution_count": 1,
   "id": "2872f32f",
   "metadata": {},
   "outputs": [],
   "source": [
    "%matplotlib inline\n",
    "\n",
    "import numpy as np\n",
    "import matplotlib.pyplot as plt"
   ]
  },
  {
   "cell_type": "code",
   "execution_count": 2,
   "id": "2a547638",
   "metadata": {},
   "outputs": [],
   "source": [
    "v1 = np.array([0,0,2,2]) # principio y fin.\n",
    "v2 = np.array([0,0,2,-2])"
   ]
  },
  {
   "cell_type": "code",
   "execution_count": 3,
   "id": "4724965e",
   "metadata": {},
   "outputs": [
    {
     "data": {
      "image/png": "[encoded data removed]",
      "text/plain": [
       "<Figure size 432x288 with 1 Axes>"
      ]
     },
     "metadata": {
      "needs_background": "light"
     },
     "output_type": "display_data"
    }
   ],
   "source": [
    "plt.quiver([v1[0], v2[0]],\n",
    "           [v1[1], v2[1]],\n",
    "           [v1[2], v2[2]],\n",
    "           [v1[3], v2[3]],\n",
    "           angles = 'xy', scale_units = 'xy', scale = 1)\n",
    "\n",
    "plt.xlim(-2,4)\n",
    "plt.ylim(-3,3)\n",
    "\n",
    "plt.show()"
   ]
  },
  {
   "cell_type": "markdown",
   "id": "2f1af667",
   "metadata": {},
   "source": [
    "### Forman un ángulo de 90 grados."
   ]
  },
  {
   "cell_type": "code",
   "execution_count": 4,
   "id": "aa6e1c28",
   "metadata": {},
   "outputs": [
    {
     "data": {
      "text/plain": [
       "array([0])"
      ]
     },
     "execution_count": 4,
     "metadata": {},
     "output_type": "execute_result"
    }
   ],
   "source": [
    "v1 = np.array([2,2])\n",
    "v2 = np.array([[2,-2]])\n",
    "\n",
    "v1.dot(v2.T)"
   ]
  },
  {
   "cell_type": "markdown",
   "id": "d658448f",
   "metadata": {},
   "source": [
    "### Son ortogonales."
   ]
  },
  {
   "cell_type": "markdown",
   "id": "875c5804",
   "metadata": {},
   "source": [
    "### Además, seran ortonormales si la norma de ambos es 1."
   ]
  },
  {
   "cell_type": "code",
   "execution_count": 5,
   "id": "4969811a",
   "metadata": {},
   "outputs": [
    {
     "data": {
      "text/plain": [
       "2.8284271247461903"
      ]
     },
     "execution_count": 5,
     "metadata": {},
     "output_type": "execute_result"
    }
   ],
   "source": [
    "np.linalg.norm(v1)"
   ]
  },
  {
   "cell_type": "markdown",
   "id": "9b8a97f8",
   "metadata": {},
   "source": [
    "### En este caso, no es así."
   ]
  },
  {
   "cell_type": "code",
   "execution_count": 6,
   "id": "dfdcf0c3",
   "metadata": {},
   "outputs": [],
   "source": [
    "v1 = np.array([0,1])\n",
    "v2 = np.array([-1,0])"
   ]
  },
  {
   "cell_type": "markdown",
   "id": "652a8260",
   "metadata": {},
   "source": [
    "### v1 y v2 son ortonormales."
   ]
  },
  {
   "cell_type": "markdown",
   "id": "75441dd5",
   "metadata": {},
   "source": [
    "### No podemos tener mas de n vectores ortogonales entre sí en un espacio de dimensión n."
   ]
  }
 ],
 "metadata": {
  "kernelspec": {
   "display_name": "Python 3.8.10 64-bit",
   "language": "python",
   "name": "python3810jvsc74a57bd031f2aee4e71d21fbe5cf8b01ff0e069b9275f58929596ceb00d14d90e3e16cd6"
  },
  "language_info": {
   "codemirror_mode": {
    "name": "ipython",
    "version": 3
   },
   "file_extension": ".py",
   "mimetype": "text/x-python",
   "name": "python",
   "nbconvert_exporter": "python",
   "pygments_lexer": "ipython3",
   "version": "3.8.10"
  }
 },
 "nbformat": 4,
 "nbformat_minor": 5
}
