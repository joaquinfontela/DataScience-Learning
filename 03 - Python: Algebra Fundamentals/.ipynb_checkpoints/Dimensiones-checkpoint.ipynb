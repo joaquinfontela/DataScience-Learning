{
 "cells": [
  {
   "cell_type": "code",
   "execution_count": 1,
   "id": "366bc97c",
   "metadata": {},
   "outputs": [],
   "source": [
    "import numpy as np"
   ]
  },
  {
   "cell_type": "code",
   "execution_count": 2,
   "id": "a3f40439",
   "metadata": {},
   "outputs": [
    {
     "name": "stdout",
     "output_type": "stream",
     "text": [
      "[1 2 3 4]\n"
     ]
    }
   ],
   "source": [
    "vector = np.array([1,2,3,4])\n",
    "# tiene un grado de libertad\n",
    "print(vector)"
   ]
  },
  {
   "cell_type": "code",
   "execution_count": 3,
   "id": "0712fc6d",
   "metadata": {},
   "outputs": [
    {
     "name": "stdout",
     "output_type": "stream",
     "text": [
      "[[ 1  2  3  4]\n",
      " [ 2  4  6  8]\n",
      " [ 4  8 12 16]]\n"
     ]
    }
   ],
   "source": [
    "matriz = np.array([[1,2,3,4], [2,4,6,8], [4,8,12,16]])\n",
    "#tiene dos grados de libertad\n",
    "print(matriz)"
   ]
  },
  {
   "cell_type": "code",
   "execution_count": 16,
   "id": "533fa5b7",
   "metadata": {},
   "outputs": [
    {
     "name": "stdout",
     "output_type": "stream",
     "text": [
      "[[[255   0   0]\n",
      "  [  0 255   0]\n",
      "  [  0   0 255]]\n",
      "\n",
      " [[255 255   0]\n",
      "  [  0 255 255]\n",
      "  [255   0 255]]\n",
      "\n",
      " [[  0   0   0]\n",
      "  [128 128 128]\n",
      "  [255 255 255]]]\n"
     ]
    }
   ],
   "source": [
    "tensor = np.array([\n",
    "    [[255,0,0],   [0,255,0],     [0,0,255]],\n",
    "    [[255,255,0], [0,255,255],   [255,0,255]],\n",
    "    [[0,0,0],     [128,128,128], [255,255,255]]\n",
    "])\n",
    "# 3 grados de libertad (un vector de matrices o una matriz de vectores)\n",
    "print(tensor)"
   ]
  },
  {
   "cell_type": "code",
   "execution_count": 17,
   "id": "671ce4cc",
   "metadata": {},
   "outputs": [],
   "source": [
    "#suponemos que los datos contenidos en el tensor corresponden a una imagen, y lo graficamos\n",
    "\n",
    "%matplotlib inline\n",
    "# le indicamos a matplotlib que los graficos queremos que figuren debajo de nuestra celda\n",
    "import matplotlib.pyplot as plt"
   ]
  },
  {
   "cell_type": "code",
   "execution_count": 18,
   "id": "dfdd5c88",
   "metadata": {},
   "outputs": [
    {
     "data": {
      "text/plain": [
       "<matplotlib.image.AxesImage at 0x7fba7e701340>"
      ]
     },
     "execution_count": 18,
     "metadata": {},
     "output_type": "execute_result"
    },
    {
     "data": {
      "image/png": "[encoded data removed]",
      "text/plain": [
       "<Figure size 432x288 with 1 Axes>"
      ]
     },
     "metadata": {
      "needs_background": "light"
     },
     "output_type": "display_data"
    }
   ],
   "source": [
    "plt.imshow(tensor)\n",
    "# (cada vector de la matriz indica un color en RGB, la prim pos para el R, la seg para el G y la tercera para el B)."
   ]
  },
  {
   "cell_type": "code",
   "execution_count": null,
   "id": "ffe5cc7f",
   "metadata": {},
   "outputs": [],
   "source": []
  }
 ],
 "metadata": {
  "kernelspec": {
   "display_name": "Python 3.8.10 64-bit",
   "language": "python",
   "name": "python3810jvsc74a57bd031f2aee4e71d21fbe5cf8b01ff0e069b9275f58929596ceb00d14d90e3e16cd6"
  },
  "language_info": {
   "codemirror_mode": {
    "name": "ipython",
    "version": 3
   },
   "file_extension": ".py",
   "mimetype": "text/x-python",
   "name": "python",
   "nbconvert_exporter": "python",
   "pygments_lexer": "ipython3",
   "version": "3.8.10"
  }
 },
 "nbformat": 4,
 "nbformat_minor": 5
}
