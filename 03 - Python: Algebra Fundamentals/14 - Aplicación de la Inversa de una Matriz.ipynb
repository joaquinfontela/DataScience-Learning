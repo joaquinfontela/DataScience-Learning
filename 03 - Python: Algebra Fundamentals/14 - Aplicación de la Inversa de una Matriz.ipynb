{
 "cells": [
  {
   "cell_type": "code",
   "execution_count": 1,
   "id": "c803c276",
   "metadata": {},
   "outputs": [],
   "source": [
    "import numpy as np"
   ]
  },
  {
   "cell_type": "markdown",
   "id": "7e864640",
   "metadata": {},
   "source": [
    "### Se plantea el sistema de ecuaciones:\n",
    "#### 3x + y = 1\n",
    "#### 2x + y = 1"
   ]
  },
  {
   "cell_type": "markdown",
   "id": "07e0f96a",
   "metadata": {},
   "source": [
    "### Y se lo expresa en forma matricial:"
   ]
  },
  {
   "cell_type": "code",
   "execution_count": 6,
   "id": "4f90e3c0",
   "metadata": {},
   "outputs": [
    {
     "name": "stdout",
     "output_type": "stream",
     "text": [
      "[[3 1]\n",
      " [2 1]]\n"
     ]
    }
   ],
   "source": [
    "A = np.array([[3,1], [2,1]])\n",
    "print(A)"
   ]
  },
  {
   "cell_type": "code",
   "execution_count": 7,
   "id": "e9600a17",
   "metadata": {},
   "outputs": [
    {
     "name": "stdout",
     "output_type": "stream",
     "text": [
      "[1 1]\n"
     ]
    }
   ],
   "source": [
    "b = np.array([1,1])\n",
    "print(b)"
   ]
  },
  {
   "cell_type": "code",
   "execution_count": 8,
   "id": "01d777bb",
   "metadata": {},
   "outputs": [],
   "source": [
    "np.set_printoptions(suppress = True)\n",
    "# seteamos numpy de tal manera que si tenemos un num muy cercano a 0, lo aproxime a 0 directamente."
   ]
  },
  {
   "cell_type": "markdown",
   "id": "c13c24fd",
   "metadata": {},
   "source": [
    "#### Calculo la inversa de A:"
   ]
  },
  {
   "cell_type": "code",
   "execution_count": 10,
   "id": "c4d3770a",
   "metadata": {},
   "outputs": [
    {
     "name": "stdout",
     "output_type": "stream",
     "text": [
      "[[ 1. -1.]\n",
      " [-2.  3.]]\n"
     ]
    }
   ],
   "source": [
    "inversa_A = np.linalg.inv(A)\n",
    "print(inversa_A)"
   ]
  },
  {
   "cell_type": "markdown",
   "id": "b63f1946",
   "metadata": {},
   "source": [
    "#### Y ahora a partir de ella, como vimos en la clase anterior, nuestro x:\n",
    "#### x = A⁻¹.b"
   ]
  },
  {
   "cell_type": "code",
   "execution_count": 13,
   "id": "e1d83775",
   "metadata": {},
   "outputs": [
    {
     "name": "stdout",
     "output_type": "stream",
     "text": [
      "[0. 1.]\n"
     ]
    }
   ],
   "source": [
    "x = inversa_A.dot(b)\n",
    "print(x)"
   ]
  },
  {
   "cell_type": "markdown",
   "id": "b02bf547",
   "metadata": {},
   "source": [
    "### Verificamos la solución"
   ]
  },
  {
   "cell_type": "code",
   "execution_count": 14,
   "id": "025d0cbe",
   "metadata": {},
   "outputs": [
    {
     "data": {
      "text/plain": [
       "array([ True,  True])"
      ]
     },
     "execution_count": 14,
     "metadata": {},
     "output_type": "execute_result"
    }
   ],
   "source": [
    "A.dot(x) == b"
   ]
  }
 ],
 "metadata": {
  "kernelspec": {
   "display_name": "Python 3.8.10 64-bit",
   "language": "python",
   "name": "python3810jvsc74a57bd031f2aee4e71d21fbe5cf8b01ff0e069b9275f58929596ceb00d14d90e3e16cd6"
  },
  "language_info": {
   "codemirror_mode": {
    "name": "ipython",
    "version": 3
   },
   "file_extension": ".py",
   "mimetype": "text/x-python",
   "name": "python",
   "nbconvert_exporter": "python",
   "pygments_lexer": "ipython3",
   "version": "3.8.10"
  }
 },
 "nbformat": 4,
 "nbformat_minor": 5
}
