{
 "cells": [
  {
   "cell_type": "markdown",
   "id": "5218daaa",
   "metadata": {},
   "source": [
    "### Propiedad:\n",
    "### v1.T . v2 = norma(v1).norma(v2).cos(alpha(v1,v2))"
   ]
  },
  {
   "cell_type": "code",
   "execution_count": 2,
   "id": "a50dc0fb",
   "metadata": {},
   "outputs": [],
   "source": [
    "%matplotlib inline\n",
    "\n",
    "import numpy as np\n",
    "import matplotlib.pyplot as plt\n",
    "import seaborn as sns"
   ]
  },
  {
   "cell_type": "code",
   "execution_count": 3,
   "id": "d5b4207b",
   "metadata": {},
   "outputs": [],
   "source": [
    "v1 = np.array([0,0,0,3])\n",
    "v2 = np.array([0,0,3,3])"
   ]
  },
  {
   "cell_type": "code",
   "execution_count": 6,
   "id": "0aac4454",
   "metadata": {},
   "outputs": [
    {
     "data": {
      "image/png": "[encoded data removed]",
      "text/plain": [
       "<Figure size 432x288 with 1 Axes>"
      ]
     },
     "metadata": {
      "needs_background": "light"
     },
     "output_type": "display_data"
    }
   ],
   "source": [
    "plt.xlim(-2,6)\n",
    "plt.ylim(-2,6)\n",
    "\n",
    "plt.quiver([v1[0], v2[0]],\n",
    "           [v1[1], v2[1]],\n",
    "           [v1[2], v2[2]],\n",
    "           [v1[3], v2[3]],\n",
    "           angles = 'xy', scale_units = 'xy', scale = 1,\n",
    "           color = sns.color_palette())\n",
    "\n",
    "plt.axvline(x = 0, color = 'grey')\n",
    "plt.axhline(y = 0, color = 'grey')\n",
    "\n",
    "plt.show()"
   ]
  },
  {
   "cell_type": "markdown",
   "id": "f5043b94",
   "metadata": {},
   "source": [
    "### El ángulo entre ellos es de 45 grados."
   ]
  },
  {
   "cell_type": "code",
   "execution_count": 7,
   "id": "b695629c",
   "metadata": {},
   "outputs": [],
   "source": [
    "v1 = np.array([0,3])\n",
    "v2 = np.array([3,3])"
   ]
  },
  {
   "cell_type": "code",
   "execution_count": 8,
   "id": "89e32ce4",
   "metadata": {},
   "outputs": [
    {
     "data": {
      "text/plain": [
       "9"
      ]
     },
     "execution_count": 8,
     "metadata": {},
     "output_type": "execute_result"
    }
   ],
   "source": [
    "v1.T.dot(v2)"
   ]
  },
  {
   "cell_type": "markdown",
   "id": "a6de332d",
   "metadata": {},
   "source": [
    "### El prod. interno entre v1 y v2 es 9."
   ]
  },
  {
   "cell_type": "code",
   "execution_count": 9,
   "id": "2d7fd890",
   "metadata": {},
   "outputs": [],
   "source": [
    "norma_v1 = np.linalg.norm(v1)\n",
    "norma_v2 = np.linalg.norm(v2)"
   ]
  },
  {
   "cell_type": "code",
   "execution_count": 10,
   "id": "1a44deb6",
   "metadata": {},
   "outputs": [
    {
     "data": {
      "text/plain": [
       "9.0"
      ]
     },
     "execution_count": 10,
     "metadata": {},
     "output_type": "execute_result"
    }
   ],
   "source": [
    "norma_v1 * norma_v2 * np.cos(np.deg2rad(45))"
   ]
  }
 ],
 "metadata": {
  "kernelspec": {
   "display_name": "Python 3.8.10 64-bit",
   "language": "python",
   "name": "python3810jvsc74a57bd031f2aee4e71d21fbe5cf8b01ff0e069b9275f58929596ceb00d14d90e3e16cd6"
  },
  "language_info": {
   "codemirror_mode": {
    "name": "ipython",
    "version": 3
   },
   "file_extension": ".py",
   "mimetype": "text/x-python",
   "name": "python",
   "nbconvert_exporter": "python",
   "pygments_lexer": "ipython3",
   "version": "3.8.10"
  }
 },
 "nbformat": 4,
 "nbformat_minor": 5
}
