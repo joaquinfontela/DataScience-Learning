{
 "cells": [
  {
   "cell_type": "code",
   "execution_count": 1,
   "id": "0293abee",
   "metadata": {},
   "outputs": [],
   "source": [
    "import numpy as np"
   ]
  },
  {
   "cell_type": "code",
   "execution_count": 2,
   "id": "c3cdc278",
   "metadata": {},
   "outputs": [],
   "source": [
    "A = np.array([[3,7], [11,-3]])\n",
    "B = np.array([[4,0], [-2,11]])"
   ]
  },
  {
   "cell_type": "code",
   "execution_count": 3,
   "id": "7b5a3957",
   "metadata": {},
   "outputs": [
    {
     "data": {
      "text/plain": [
       "array([[ True,  True],\n",
       "       [ True,  True]])"
      ]
     },
     "execution_count": 3,
     "metadata": {},
     "output_type": "execute_result"
    }
   ],
   "source": [
    "(A.dot(B)).T == (B.T).dot(A.T)"
   ]
  },
  {
   "cell_type": "markdown",
   "id": "1b1f58a4",
   "metadata": {},
   "source": [
    "### Verificamos un ejemplo de la propiedad que indica:\n",
    "### (A.B)t = Bt . At"
   ]
  },
  {
   "cell_type": "markdown",
   "id": "65fc6910",
   "metadata": {},
   "source": [
    "### Además:\n",
    "#### (AB) t t = AB"
   ]
  },
  {
   "cell_type": "code",
   "execution_count": 6,
   "id": "3926b4c5",
   "metadata": {},
   "outputs": [
    {
     "data": {
      "text/plain": [
       "array([[ True,  True],\n",
       "       [ True,  True]])"
      ]
     },
     "execution_count": 6,
     "metadata": {},
     "output_type": "execute_result"
    }
   ],
   "source": [
    "(A.dot(B)).T.T == A.dot(B)"
   ]
  }
 ],
 "metadata": {
  "kernelspec": {
   "display_name": "Python 3.8.10 64-bit",
   "language": "python",
   "name": "python3810jvsc74a57bd031f2aee4e71d21fbe5cf8b01ff0e069b9275f58929596ceb00d14d90e3e16cd6"
  },
  "language_info": {
   "codemirror_mode": {
    "name": "ipython",
    "version": 3
   },
   "file_extension": ".py",
   "mimetype": "text/x-python",
   "name": "python",
   "nbconvert_exporter": "python",
   "pygments_lexer": "ipython3",
   "version": "3.8.10"
  }
 },
 "nbformat": 4,
 "nbformat_minor": 5
}
