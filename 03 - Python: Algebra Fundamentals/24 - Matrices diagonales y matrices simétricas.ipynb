{
 "cells": [
  {
   "cell_type": "code",
   "execution_count": 1,
   "id": "4a21b60e",
   "metadata": {},
   "outputs": [],
   "source": [
    "import numpy as np"
   ]
  },
  {
   "cell_type": "code",
   "execution_count": 3,
   "id": "4194372a",
   "metadata": {},
   "outputs": [
    {
     "name": "stdout",
     "output_type": "stream",
     "text": [
      "[[1 0 0 0 0]\n",
      " [0 2 0 0 0]\n",
      " [0 0 3 0 0]\n",
      " [0 0 0 4 0]\n",
      " [0 0 0 0 5]]\n"
     ]
    }
   ],
   "source": [
    "v = np.array([1,2,3,4,5])\n",
    "\n",
    "matrix = np.diag(v)\n",
    "\n",
    "print(matrix)"
   ]
  },
  {
   "cell_type": "markdown",
   "id": "602abbf0",
   "metadata": {},
   "source": [
    "### No tienen porque ser cuadradas."
   ]
  },
  {
   "cell_type": "code",
   "execution_count": 5,
   "id": "a6ae5d83",
   "metadata": {},
   "outputs": [
    {
     "name": "stdout",
     "output_type": "stream",
     "text": [
      "[[1 0 0]\n",
      " [0 2 0]\n",
      " [0 0 3]\n",
      " [0 0 0]]\n"
     ]
    }
   ],
   "source": [
    "print(matrix[0:4, 0:3])"
   ]
  },
  {
   "cell_type": "code",
   "execution_count": 6,
   "id": "4191db00",
   "metadata": {},
   "outputs": [
    {
     "name": "stdout",
     "output_type": "stream",
     "text": [
      "[[1 0 0 0]\n",
      " [0 2 0 0]\n",
      " [0 0 3 0]]\n"
     ]
    }
   ],
   "source": [
    "print(matrix[0:3, 0:4])"
   ]
  },
  {
   "cell_type": "markdown",
   "id": "f3951bc8",
   "metadata": {},
   "source": [
    "### Estas dos últimas también son cuadradas."
   ]
  },
  {
   "cell_type": "code",
   "execution_count": 7,
   "id": "0d8d48e5",
   "metadata": {},
   "outputs": [
    {
     "data": {
      "text/plain": [
       "array([[2, 0, 0, 0],\n",
       "       [0, 3, 0, 0],\n",
       "       [0, 0, 4, 0],\n",
       "       [0, 0, 0, 5]])"
      ]
     },
     "execution_count": 7,
     "metadata": {},
     "output_type": "execute_result"
    }
   ],
   "source": [
    "A = np.diag([2,3,4,5])\n",
    "A"
   ]
  },
  {
   "cell_type": "code",
   "execution_count": 8,
   "id": "500bfa5e",
   "metadata": {},
   "outputs": [
    {
     "data": {
      "text/plain": [
       "array([1, 1, 1, 1])"
      ]
     },
     "execution_count": 8,
     "metadata": {},
     "output_type": "execute_result"
    }
   ],
   "source": [
    "v1 = np.array([1,1,1,1])\n",
    "v1"
   ]
  },
  {
   "cell_type": "code",
   "execution_count": 9,
   "id": "99fed490",
   "metadata": {},
   "outputs": [
    {
     "data": {
      "text/plain": [
       "array([2, 3, 4, 5])"
      ]
     },
     "execution_count": 9,
     "metadata": {},
     "output_type": "execute_result"
    }
   ],
   "source": [
    "A.dot(v1.T)"
   ]
  },
  {
   "cell_type": "markdown",
   "id": "6be63e81",
   "metadata": {},
   "source": [
    "### La inversa de una matriz diagonal es fácil de calcular: es otra matriz con la inversa de cada uno de sus elementos."
   ]
  },
  {
   "cell_type": "code",
   "execution_count": 11,
   "id": "8bd49ed4",
   "metadata": {},
   "outputs": [
    {
     "data": {
      "text/plain": [
       "array([[0.5       , 0.        , 0.        , 0.        ],\n",
       "       [0.        , 0.33333333, 0.        , 0.        ],\n",
       "       [0.        , 0.        , 0.25      , 0.        ],\n",
       "       [0.        , 0.        , 0.        , 0.2       ]])"
      ]
     },
     "execution_count": 11,
     "metadata": {},
     "output_type": "execute_result"
    }
   ],
   "source": [
    "A_inv = np.diag([1/2, 1/3, 1/4, 1/5])\n",
    "A_inv"
   ]
  },
  {
   "cell_type": "code",
   "execution_count": 12,
   "id": "9c9d3dec",
   "metadata": {},
   "outputs": [
    {
     "data": {
      "text/plain": [
       "array([[1., 0., 0., 0.],\n",
       "       [0., 1., 0., 0.],\n",
       "       [0., 0., 1., 0.],\n",
       "       [0., 0., 0., 1.]])"
      ]
     },
     "execution_count": 12,
     "metadata": {},
     "output_type": "execute_result"
    }
   ],
   "source": [
    "A.dot(A_inv)"
   ]
  },
  {
   "cell_type": "markdown",
   "id": "1ce8011c",
   "metadata": {},
   "source": [
    "### Chequeado."
   ]
  },
  {
   "cell_type": "markdown",
   "id": "6aee9205",
   "metadata": {},
   "source": [
    "### Ahora lo chequeamos computacionalmente:"
   ]
  },
  {
   "cell_type": "code",
   "execution_count": 13,
   "id": "70d7a170",
   "metadata": {},
   "outputs": [
    {
     "data": {
      "text/plain": [
       "array([[0.5       , 0.        , 0.        , 0.        ],\n",
       "       [0.        , 0.33333333, 0.        , 0.        ],\n",
       "       [0.        , 0.        , 0.25      , 0.        ],\n",
       "       [0.        , 0.        , 0.        , 0.2       ]])"
      ]
     },
     "execution_count": 13,
     "metadata": {},
     "output_type": "execute_result"
    }
   ],
   "source": [
    "np.linalg.inv(A)"
   ]
  },
  {
   "cell_type": "markdown",
   "id": "c639240b",
   "metadata": {},
   "source": [
    "### Hecho."
   ]
  },
  {
   "cell_type": "markdown",
   "id": "4b1145ae",
   "metadata": {},
   "source": [
    "### Ahora: matrices simétricas (cuando A = A_transpuesta)"
   ]
  },
  {
   "cell_type": "markdown",
   "id": "7c7f096e",
   "metadata": {},
   "source": [
    "### Las matrices diagonales siempre son simétricas."
   ]
  },
  {
   "cell_type": "code",
   "execution_count": 15,
   "id": "5adb811f",
   "metadata": {},
   "outputs": [],
   "source": [
    "sim = np.array([[1,  2, 3 ],\n",
    "                [2, -1, 7 ],\n",
    "                [3,  7, 11]])"
   ]
  },
  {
   "cell_type": "code",
   "execution_count": 16,
   "id": "a2fe92b8",
   "metadata": {},
   "outputs": [
    {
     "data": {
      "text/plain": [
       "array([[ True,  True,  True],\n",
       "       [ True,  True,  True],\n",
       "       [ True,  True,  True]])"
      ]
     },
     "execution_count": 16,
     "metadata": {},
     "output_type": "execute_result"
    }
   ],
   "source": [
    "sim == sim.T"
   ]
  }
 ],
 "metadata": {
  "kernelspec": {
   "display_name": "Python 3.8.10 64-bit",
   "language": "python",
   "name": "python3810jvsc74a57bd031f2aee4e71d21fbe5cf8b01ff0e069b9275f58929596ceb00d14d90e3e16cd6"
  },
  "language_info": {
   "codemirror_mode": {
    "name": "ipython",
    "version": 3
   },
   "file_extension": ".py",
   "mimetype": "text/x-python",
   "name": "python",
   "nbconvert_exporter": "python",
   "pygments_lexer": "ipython3",
   "version": "3.8.10"
  }
 },
 "nbformat": 4,
 "nbformat_minor": 5
}
