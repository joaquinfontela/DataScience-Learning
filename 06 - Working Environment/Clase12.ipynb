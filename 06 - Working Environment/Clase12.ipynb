{
 "cells": [
  {
   "cell_type": "code",
   "execution_count": null,
   "metadata": {},
   "outputs": [],
   "source": []
  }
 ],
 "metadata": {
  "interpreter": {
   "hash": "f437bc8914cd86e5b0677ba6e6051b3255d2e39f30742f5c9bce94b05a6ec6fc"
  },
  "kernelspec": {
   "display_name": "Python 3.9.7 64-bit ('curso-work-env': conda)",
   "language": "python",
   "name": "python3"
  },
  "language_info": {
   "name": "python",
   "version": "3.9.7"
  },
  "orig_nbformat": 4
 },
 "nbformat": 4,
 "nbformat_minor": 2
}
