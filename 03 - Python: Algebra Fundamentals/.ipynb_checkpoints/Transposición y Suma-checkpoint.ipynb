{
 "cells": [
  {
   "cell_type": "code",
   "execution_count": 1,
   "id": "f53f0a77",
   "metadata": {},
   "outputs": [],
   "source": [
    "import numpy as np"
   ]
  },
  {
   "cell_type": "code",
   "execution_count": 14,
   "id": "2f32e2c7",
   "metadata": {},
   "outputs": [],
   "source": [
    "escalar = 5.679\n",
    "\n",
    "vector = np.array([1,2,3,4])\n",
    "\n",
    "matriz = np.array([[1,2,3,4], [2,4,6,8], [4,8,12,16]])\n",
    "\n",
    "tensor = np.array([\n",
    "    [[255,0,0,10],   [0,255,0,10],     [0,0,255,10]],\n",
    "    [[255,255,0,10], [0,255,255,10],   [255,0,255,10]],\n",
    "    [[0,0,0,10],     [128,128,128,10], [255,255,255,10]]\n",
    "])"
   ]
  },
  {
   "cell_type": "code",
   "execution_count": 4,
   "id": "f12f265b",
   "metadata": {},
   "outputs": [
    {
     "ename": "AttributeError",
     "evalue": "'float' object has no attribute 'T'",
     "output_type": "error",
     "traceback": [
      "\u001b[0;31m---------------------------------------------------------------------------\u001b[0m",
      "\u001b[0;31mAttributeError\u001b[0m                            Traceback (most recent call last)",
      "\u001b[0;32m<ipython-input-4-479786817e3c>\u001b[0m in \u001b[0;36m<module>\u001b[0;34m\u001b[0m\n\u001b[0;32m----> 1\u001b[0;31m \u001b[0mescalar\u001b[0m\u001b[0;34m.\u001b[0m\u001b[0mT\u001b[0m\u001b[0;34m\u001b[0m\u001b[0;34m\u001b[0m\u001b[0m\n\u001b[0m\u001b[1;32m      2\u001b[0m \u001b[0;31m# no existe transponer un escalar.\u001b[0m\u001b[0;34m\u001b[0m\u001b[0;34m\u001b[0m\u001b[0;34m\u001b[0m\u001b[0m\n",
      "\u001b[0;31mAttributeError\u001b[0m: 'float' object has no attribute 'T'"
     ]
    }
   ],
   "source": [
    "escalar.T\n",
    "# no existe transponer un escalar."
   ]
  },
  {
   "cell_type": "code",
   "execution_count": 7,
   "id": "58c83679",
   "metadata": {},
   "outputs": [
    {
     "data": {
      "text/plain": [
       "array([1, 2, 3, 4])"
      ]
     },
     "execution_count": 7,
     "metadata": {},
     "output_type": "execute_result"
    }
   ],
   "source": [
    "vector.T\n",
    "# no se ven cambios a menos que se hagan cuentas"
   ]
  },
  {
   "cell_type": "code",
   "execution_count": 9,
   "id": "4dd7a613",
   "metadata": {},
   "outputs": [
    {
     "data": {
      "text/plain": [
       "array([[ 1,  2,  4],\n",
       "       [ 2,  4,  8],\n",
       "       [ 3,  6, 12],\n",
       "       [ 4,  8, 16]])"
      ]
     },
     "execution_count": 9,
     "metadata": {},
     "output_type": "execute_result"
    }
   ],
   "source": [
    "matriz.T"
   ]
  },
  {
   "cell_type": "code",
   "execution_count": 12,
   "id": "6c14943b",
   "metadata": {},
   "outputs": [
    {
     "data": {
      "text/plain": [
       "(4, 3)"
      ]
     },
     "execution_count": 12,
     "metadata": {},
     "output_type": "execute_result"
    }
   ],
   "source": [
    "matriz.T.shape"
   ]
  },
  {
   "cell_type": "code",
   "execution_count": 15,
   "id": "0585ba4d",
   "metadata": {},
   "outputs": [
    {
     "data": {
      "text/plain": [
       "array([[[255, 255,   0],\n",
       "        [  0,   0, 128],\n",
       "        [  0, 255, 255]],\n",
       "\n",
       "       [[  0, 255,   0],\n",
       "        [255, 255, 128],\n",
       "        [  0,   0, 255]],\n",
       "\n",
       "       [[  0,   0,   0],\n",
       "        [  0, 255, 128],\n",
       "        [255, 255, 255]],\n",
       "\n",
       "       [[ 10,  10,  10],\n",
       "        [ 10,  10,  10],\n",
       "        [ 10,  10,  10]]])"
      ]
     },
     "execution_count": 15,
     "metadata": {},
     "output_type": "execute_result"
    }
   ],
   "source": [
    "tensor.T"
   ]
  },
  {
   "cell_type": "code",
   "execution_count": 16,
   "id": "97117a10",
   "metadata": {},
   "outputs": [
    {
     "data": {
      "text/plain": [
       "array([[ True,  True,  True,  True],\n",
       "       [ True,  True,  True,  True],\n",
       "       [ True,  True,  True,  True]])"
      ]
     },
     "execution_count": 16,
     "metadata": {},
     "output_type": "execute_result"
    }
   ],
   "source": [
    "matriz == matriz.T.T"
   ]
  },
  {
   "cell_type": "markdown",
   "id": "c4af0107",
   "metadata": {},
   "source": [
    "### Suma de matrices:"
   ]
  },
  {
   "cell_type": "code",
   "execution_count": 17,
   "id": "93f4973c",
   "metadata": {},
   "outputs": [
    {
     "data": {
      "text/plain": [
       "array([[-1, 12],\n",
       "       [ 8,  3]])"
      ]
     },
     "execution_count": 17,
     "metadata": {},
     "output_type": "execute_result"
    }
   ],
   "source": [
    "m1 = np.array([[1,7], [4,-3]])\n",
    "m2 = np.array([[-2,5], [4,6]])\n",
    "m1 + m2"
   ]
  },
  {
   "cell_type": "code",
   "execution_count": 18,
   "id": "42e6758f",
   "metadata": {},
   "outputs": [
    {
     "data": {
      "text/plain": [
       "array([[ 6.679,  7.679,  8.679,  9.679],\n",
       "       [ 7.679,  9.679, 11.679, 13.679],\n",
       "       [ 9.679, 13.679, 17.679, 21.679]])"
      ]
     },
     "execution_count": 18,
     "metadata": {},
     "output_type": "execute_result"
    }
   ],
   "source": [
    "matriz + escalar\n",
    "# suma a cada valor de la matriz el escalar"
   ]
  }
 ],
 "metadata": {
  "kernelspec": {
   "display_name": "Python 3.8.10 64-bit",
   "language": "python",
   "name": "python3810jvsc74a57bd031f2aee4e71d21fbe5cf8b01ff0e069b9275f58929596ceb00d14d90e3e16cd6"
  },
  "language_info": {
   "codemirror_mode": {
    "name": "ipython",
    "version": 3
   },
   "file_extension": ".py",
   "mimetype": "text/x-python",
   "name": "python",
   "nbconvert_exporter": "python",
   "pygments_lexer": "ipython3",
   "version": "3.8.10"
  }
 },
 "nbformat": 4,
 "nbformat_minor": 5
}
