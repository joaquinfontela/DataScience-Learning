{
 "cells": [
  {
   "cell_type": "markdown",
   "id": "89800786",
   "metadata": {},
   "source": [
    "### Una matriz es ortogonal si sus filas son ortogonales entre sí, y sus columnas también (entre sí)."
   ]
  },
  {
   "cell_type": "code",
   "execution_count": 15,
   "id": "e785c46f",
   "metadata": {},
   "outputs": [],
   "source": [
    "import numpy as np"
   ]
  },
  {
   "cell_type": "code",
   "execution_count": 16,
   "id": "dc5d8f02",
   "metadata": {},
   "outputs": [],
   "source": [
    "matrix = np.array([[1,0,0],\n",
    "                   [0,1,0],\n",
    "                   [0,0,1]])"
   ]
  },
  {
   "cell_type": "code",
   "execution_count": 17,
   "id": "2e0839f8",
   "metadata": {},
   "outputs": [
    {
     "data": {
      "text/plain": [
       "array([1, 0, 0])"
      ]
     },
     "execution_count": 17,
     "metadata": {},
     "output_type": "execute_result"
    }
   ],
   "source": [
    "col1 = matrix[:,0]\n",
    "col1"
   ]
  },
  {
   "cell_type": "code",
   "execution_count": 18,
   "id": "e198d584",
   "metadata": {},
   "outputs": [],
   "source": [
    "col2 = matrix[:,1]"
   ]
  },
  {
   "cell_type": "code",
   "execution_count": 19,
   "id": "abbdbdb3",
   "metadata": {},
   "outputs": [
    {
     "data": {
      "text/plain": [
       "0"
      ]
     },
     "execution_count": 19,
     "metadata": {},
     "output_type": "execute_result"
    }
   ],
   "source": [
    "col1.dot(col2)"
   ]
  },
  {
   "cell_type": "markdown",
   "id": "438bc4c4",
   "metadata": {},
   "source": [
    "### Las columnas 1 y 2 son ortogonales."
   ]
  },
  {
   "cell_type": "code",
   "execution_count": 20,
   "id": "47dd7eda",
   "metadata": {},
   "outputs": [],
   "source": [
    "col3 = matrix[:,2]"
   ]
  },
  {
   "cell_type": "code",
   "execution_count": 21,
   "id": "bd2d4537",
   "metadata": {},
   "outputs": [
    {
     "data": {
      "text/plain": [
       "0"
      ]
     },
     "execution_count": 21,
     "metadata": {},
     "output_type": "execute_result"
    }
   ],
   "source": [
    "col1.dot(col3)"
   ]
  },
  {
   "cell_type": "code",
   "execution_count": 22,
   "id": "b2ab8a5a",
   "metadata": {},
   "outputs": [
    {
     "data": {
      "text/plain": [
       "0"
      ]
     },
     "execution_count": 22,
     "metadata": {},
     "output_type": "execute_result"
    }
   ],
   "source": [
    "col2.dot(col3)"
   ]
  },
  {
   "cell_type": "markdown",
   "id": "3035fe41",
   "metadata": {},
   "source": [
    "### El resto de las columnas también son ortogonales entre sí, entonces el conjunto de las columnas es ortogonal."
   ]
  },
  {
   "cell_type": "code",
   "execution_count": 25,
   "id": "4e4c8431",
   "metadata": {},
   "outputs": [
    {
     "name": "stdout",
     "output_type": "stream",
     "text": [
      "0\n",
      "0\n",
      "0\n"
     ]
    }
   ],
   "source": [
    "fila1 = matrix[0,:]\n",
    "fila2 = matrix[1,:]\n",
    "fila3 = matrix[2,:]\n",
    "\n",
    "print(fila1.dot(fila2))\n",
    "print(fila1.dot(fila3))\n",
    "print(fila2.dot(fila3))"
   ]
  },
  {
   "cell_type": "markdown",
   "id": "9ba75646",
   "metadata": {},
   "source": [
    "### El conjunto de las filas también son ortogonales entre sí."
   ]
  },
  {
   "cell_type": "markdown",
   "id": "c0b654cb",
   "metadata": {},
   "source": [
    "### Con esto, concluímos que la matriz es ortogonal."
   ]
  },
  {
   "cell_type": "markdown",
   "id": "7750273e",
   "metadata": {},
   "source": [
    "### En las matrices ortogonales:\n",
    "#### A.A_T = A_T.A = Id  <==>  A_T = A⁻¹"
   ]
  },
  {
   "cell_type": "code",
   "execution_count": 26,
   "id": "8cffadf3",
   "metadata": {},
   "outputs": [],
   "source": [
    "A = np.array([[np.cos(100), -np.sin(100)],\n",
    "              [np.sin(100),  np.cos(100)]])"
   ]
  },
  {
   "cell_type": "code",
   "execution_count": 27,
   "id": "47edfe42",
   "metadata": {},
   "outputs": [
    {
     "data": {
      "text/plain": [
       "array([[ 0.86231887,  0.50636564],\n",
       "       [-0.50636564,  0.86231887]])"
      ]
     },
     "execution_count": 27,
     "metadata": {},
     "output_type": "execute_result"
    }
   ],
   "source": [
    "A"
   ]
  },
  {
   "cell_type": "code",
   "execution_count": 29,
   "id": "e44f536e",
   "metadata": {},
   "outputs": [
    {
     "name": "stdout",
     "output_type": "stream",
     "text": [
      "0.9999999999999999\n",
      "0.9999999999999999\n",
      "0.9999999999999999\n",
      "0.9999999999999999\n"
     ]
    }
   ],
   "source": [
    "print(np.linalg.norm(A[0,:]))\n",
    "print(np.linalg.norm(A[1,:]))\n",
    "print(np.linalg.norm(A[:,0]))\n",
    "print(np.linalg.norm(A[:,1]))"
   ]
  },
  {
   "cell_type": "code",
   "execution_count": 30,
   "id": "61925e5d",
   "metadata": {},
   "outputs": [
    {
     "name": "stdout",
     "output_type": "stream",
     "text": [
      "0.0\n",
      "0.0\n"
     ]
    }
   ],
   "source": [
    "print(A[0,:].dot(A[1,:])) # el prod interno de una fila con la otra.\n",
    "print(A[:,0].dot(A[:,1])) # el prod interno entre columnas."
   ]
  },
  {
   "cell_type": "markdown",
   "id": "34e61df1",
   "metadata": {},
   "source": [
    "### Es una matriz ortogonal con sus filas y columnas de norma 1 (dato extra)."
   ]
  },
  {
   "cell_type": "code",
   "execution_count": 31,
   "id": "cd492cc5",
   "metadata": {},
   "outputs": [
    {
     "name": "stdout",
     "output_type": "stream",
     "text": [
      "[[ 1.00000000e+00 -7.93771519e-18]\n",
      " [-7.93771519e-18  1.00000000e+00]]\n",
      "[[1.00000000e+00 7.93771519e-18]\n",
      " [7.93771519e-18 1.00000000e+00]]\n"
     ]
    }
   ],
   "source": [
    "A_T = A.T\n",
    "print(A_T.dot(A))\n",
    "print(A.dot(A_T))"
   ]
  },
  {
   "cell_type": "markdown",
   "id": "e740f99b",
   "metadata": {},
   "source": [
    "### Son matrices iguales (A.A_T = A_T.A), además el resultado es la matriz identidad.\n",
    "### Esto último no se puede ver en el resultado debido al error al manejar floats."
   ]
  },
  {
   "cell_type": "markdown",
   "id": "73d94eea",
   "metadata": {},
   "source": [
    "### Se arregla con la siguiente línea."
   ]
  },
  {
   "cell_type": "code",
   "execution_count": 32,
   "id": "bb742419",
   "metadata": {},
   "outputs": [],
   "source": [
    "np.set_printoptions(suppress=True)"
   ]
  },
  {
   "cell_type": "markdown",
   "id": "73305a78",
   "metadata": {},
   "source": [
    "### Ahora podemos ver que el resultado es el correcto."
   ]
  },
  {
   "cell_type": "code",
   "execution_count": 33,
   "id": "22c3a376",
   "metadata": {},
   "outputs": [
    {
     "name": "stdout",
     "output_type": "stream",
     "text": [
      "[[ 1. -0.]\n",
      " [-0.  1.]]\n",
      "[[1. 0.]\n",
      " [0. 1.]]\n"
     ]
    }
   ],
   "source": [
    "A_T = A.T\n",
    "print(A_T.dot(A))\n",
    "print(A.dot(A_T))"
   ]
  }
 ],
 "metadata": {
  "kernelspec": {
   "display_name": "Python 3.8.10 64-bit",
   "language": "python",
   "name": "python3810jvsc74a57bd031f2aee4e71d21fbe5cf8b01ff0e069b9275f58929596ceb00d14d90e3e16cd6"
  },
  "language_info": {
   "codemirror_mode": {
    "name": "ipython",
    "version": 3
   },
   "file_extension": ".py",
   "mimetype": "text/x-python",
   "name": "python",
   "nbconvert_exporter": "python",
   "pygments_lexer": "ipython3",
   "version": "3.8.10"
  }
 },
 "nbformat": 4,
 "nbformat_minor": 5
}
