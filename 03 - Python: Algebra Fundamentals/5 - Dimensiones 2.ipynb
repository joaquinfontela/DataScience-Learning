{
 "cells": [
  {
   "cell_type": "code",
   "execution_count": 3,
   "id": "f3a65acf",
   "metadata": {},
   "outputs": [],
   "source": [
    "import numpy as np"
   ]
  },
  {
   "cell_type": "code",
   "execution_count": 5,
   "id": "8f8368ed",
   "metadata": {},
   "outputs": [],
   "source": [
    "escalar = 5.679\n",
    "\n",
    "vector = np.array([1,2,3,4])\n",
    "\n",
    "matriz = np.array([[1,2,3,4], [2,4,6,8], [4,8,12,16]])\n",
    "\n",
    "tensor = np.array([\n",
    "    [[255,0,0],   [0,255,0],     [0,0,255]],\n",
    "    [[255,255,0], [0,255,255],   [255,0,255]],\n",
    "    [[0,0,0],     [128,128,128], [255,255,255]]\n",
    "])"
   ]
  },
  {
   "cell_type": "markdown",
   "id": "c41e404a",
   "metadata": {},
   "source": [
    "#### La función '.shape' nos devuelve la dimensión de un elem"
   ]
  },
  {
   "cell_type": "code",
   "execution_count": 7,
   "id": "7b105eb5",
   "metadata": {},
   "outputs": [
    {
     "ename": "AttributeError",
     "evalue": "'float' object has no attribute 'shape'",
     "output_type": "error",
     "traceback": [
      "\u001b[0;31m---------------------------------------------------------------------------\u001b[0m",
      "\u001b[0;31mAttributeError\u001b[0m                            Traceback (most recent call last)",
      "\u001b[0;32m<ipython-input-7-f06d931aaba9>\u001b[0m in \u001b[0;36m<module>\u001b[0;34m\u001b[0m\n\u001b[0;32m----> 1\u001b[0;31m \u001b[0mescalar\u001b[0m\u001b[0;34m.\u001b[0m\u001b[0mshape\u001b[0m\u001b[0;34m\u001b[0m\u001b[0;34m\u001b[0m\u001b[0m\n\u001b[0m",
      "\u001b[0;31mAttributeError\u001b[0m: 'float' object has no attribute 'shape'"
     ]
    }
   ],
   "source": [
    "escalar.shape"
   ]
  },
  {
   "cell_type": "markdown",
   "id": "92fa1bf7",
   "metadata": {},
   "source": [
    "#### Un escalar no tiene dimensión."
   ]
  },
  {
   "cell_type": "code",
   "execution_count": 8,
   "id": "60e99b92",
   "metadata": {},
   "outputs": [
    {
     "data": {
      "text/plain": [
       "(4,)"
      ]
     },
     "execution_count": 8,
     "metadata": {},
     "output_type": "execute_result"
    }
   ],
   "source": [
    "vector.shape"
   ]
  },
  {
   "cell_type": "code",
   "execution_count": 10,
   "id": "ae4f933d",
   "metadata": {},
   "outputs": [
    {
     "data": {
      "text/plain": [
       "(3, 4)"
      ]
     },
     "execution_count": 10,
     "metadata": {},
     "output_type": "execute_result"
    }
   ],
   "source": [
    "matriz.shape\n",
    "# Es una matriz de 3x4"
   ]
  },
  {
   "cell_type": "code",
   "execution_count": 12,
   "id": "b49e647b",
   "metadata": {},
   "outputs": [
    {
     "data": {
      "text/plain": [
       "12"
      ]
     },
     "execution_count": 12,
     "metadata": {},
     "output_type": "execute_result"
    }
   ],
   "source": [
    "matriz.size\n",
    "# la cantidad de elementos de la matriz"
   ]
  },
  {
   "cell_type": "code",
   "execution_count": 15,
   "id": "cf0be0a0",
   "metadata": {},
   "outputs": [
    {
     "data": {
      "text/plain": [
       "(3, 3, 3)"
      ]
     },
     "execution_count": 15,
     "metadata": {},
     "output_type": "execute_result"
    }
   ],
   "source": [
    "tensor.shape\n",
    "# es un tensor de 3 matrices de 3x3 (3 filas, 3 cols, 3 matrices)."
   ]
  },
  {
   "cell_type": "code",
   "execution_count": 18,
   "id": "9059415f",
   "metadata": {},
   "outputs": [
    {
     "data": {
      "text/plain": [
       "27"
      ]
     },
     "execution_count": 18,
     "metadata": {},
     "output_type": "execute_result"
    }
   ],
   "source": [
    "tensor.size\n",
    "# cantidad de elementos del tensor"
   ]
  },
  {
   "cell_type": "markdown",
   "id": "acbe4f1f",
   "metadata": {},
   "source": [
    "## A continuación prueba propia:"
   ]
  },
  {
   "cell_type": "code",
   "execution_count": 22,
   "id": "7ae6d2a0",
   "metadata": {},
   "outputs": [
    {
     "name": "stderr",
     "output_type": "stream",
     "text": [
      "<ipython-input-22-90cc4e0b3392>:1: VisibleDeprecationWarning: Creating an ndarray from ragged nested sequences (which is a list-or-tuple of lists-or-tuples-or ndarrays with different lengths or shapes) is deprecated. If you meant to do this, you must specify 'dtype=object' when creating the ndarray.\n",
      "  tensor = np.array([\n"
     ]
    }
   ],
   "source": [
    "tensor = np.array([\n",
    "    [[255,0],   [0,255,0],     [0,0,255]],\n",
    "    [[255,255,0], [255],   [255,0,255]],\n",
    "    [[0,0,0],     [128,128,128,65], [255,255,255]]\n",
    "])"
   ]
  },
  {
   "cell_type": "code",
   "execution_count": 24,
   "id": "07a0772e",
   "metadata": {},
   "outputs": [
    {
     "data": {
      "text/plain": [
       "(3, 3)"
      ]
     },
     "execution_count": 24,
     "metadata": {},
     "output_type": "execute_result"
    }
   ],
   "source": [
    "tensor.shape"
   ]
  },
  {
   "cell_type": "code",
   "execution_count": 25,
   "id": "1ec3e96b",
   "metadata": {},
   "outputs": [
    {
     "name": "stdout",
     "output_type": "stream",
     "text": [
      "[[list([255, 0]) list([0, 255, 0]) list([0, 0, 255])]\n",
      " [list([255, 255, 0]) list([255]) list([255, 0, 255])]\n",
      " [list([0, 0, 0]) list([128, 128, 128, 65]) list([255, 255, 255])]]\n"
     ]
    }
   ],
   "source": [
    "print(tensor)"
   ]
  },
  {
   "cell_type": "markdown",
   "id": "93ed59ee",
   "metadata": {},
   "source": [
    "### Termina siendo una matriz de listas."
   ]
  }
 ],
 "metadata": {
  "kernelspec": {
   "display_name": "Python 3.8.10 64-bit",
   "language": "python",
   "name": "python3810jvsc74a57bd031f2aee4e71d21fbe5cf8b01ff0e069b9275f58929596ceb00d14d90e3e16cd6"
  },
  "language_info": {
   "codemirror_mode": {
    "name": "ipython",
    "version": 3
   },
   "file_extension": ".py",
   "mimetype": "text/x-python",
   "name": "python",
   "nbconvert_exporter": "python",
   "pygments_lexer": "ipython3",
   "version": "3.8.10"
  }
 },
 "nbformat": 4,
 "nbformat_minor": 5
}
