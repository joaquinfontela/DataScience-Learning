{
 "cells": [
  {
   "cell_type": "markdown",
   "id": "f6310433",
   "metadata": {},
   "source": [
    "### L0:  la cantidad de elementos distintos de 0 de nuestro vector.\n",
    "### L1:  la suma de los valores absolutos de nuestro vector.\n",
    "### L2:  la distancia euclideana, la norma más conocida.\n",
    "### L2²: es el resultado de elevar L2 al cuadrado (o calcular la norma sin hacer la raíz).\n",
    "### Linfinito: el mayor valor dentro de los valores absolutos de nuestro vector."
   ]
  },
  {
   "cell_type": "code",
   "execution_count": 1,
   "id": "38c2f81d",
   "metadata": {},
   "outputs": [],
   "source": [
    "import numpy as np"
   ]
  },
  {
   "cell_type": "code",
   "execution_count": 6,
   "id": "9a3dd2e8",
   "metadata": {},
   "outputs": [],
   "source": [
    "v = np.array([1,2,0,-5,6,0])"
   ]
  },
  {
   "cell_type": "code",
   "execution_count": 7,
   "id": "9e6b681e",
   "metadata": {},
   "outputs": [
    {
     "data": {
      "text/plain": [
       "4.0"
      ]
     },
     "execution_count": 7,
     "metadata": {},
     "output_type": "execute_result"
    }
   ],
   "source": [
    "np.linalg.norm(v, ord = 0)\n",
    "# L0"
   ]
  },
  {
   "cell_type": "markdown",
   "id": "63dbd9fe",
   "metadata": {},
   "source": [
    "### Para L0, por ej: ¿Cuantos usuarios hicieron compras?"
   ]
  },
  {
   "cell_type": "code",
   "execution_count": 11,
   "id": "e4ef4201",
   "metadata": {},
   "outputs": [
    {
     "data": {
      "text/plain": [
       "14.0"
      ]
     },
     "execution_count": 11,
     "metadata": {},
     "output_type": "execute_result"
    }
   ],
   "source": [
    "np.linalg.norm(v, ord = 1)\n",
    "# L1"
   ]
  },
  {
   "cell_type": "code",
   "execution_count": 10,
   "id": "24791071",
   "metadata": {},
   "outputs": [
    {
     "data": {
      "text/plain": [
       "8.12403840463596"
      ]
     },
     "execution_count": 10,
     "metadata": {},
     "output_type": "execute_result"
    }
   ],
   "source": [
    "np.linalg.norm(v)\n",
    "# L2, la norma por defecto es la de orden 2."
   ]
  },
  {
   "cell_type": "code",
   "execution_count": 13,
   "id": "bf672ed8",
   "metadata": {},
   "outputs": [
    {
     "data": {
      "text/plain": [
       "66.00000000000001"
      ]
     },
     "execution_count": 13,
     "metadata": {},
     "output_type": "execute_result"
    }
   ],
   "source": [
    "np.linalg.norm(v) ** 2\n",
    "# L2²"
   ]
  },
  {
   "cell_type": "markdown",
   "id": "7efc87ff",
   "metadata": {},
   "source": [
    "### Es lo mismo que hacer el producto interno de v con sí mismo (además de ser este ultimo método más eficiente computacionalmente)."
   ]
  },
  {
   "cell_type": "code",
   "execution_count": 14,
   "id": "1747b24b",
   "metadata": {},
   "outputs": [
    {
     "data": {
      "text/plain": [
       "66"
      ]
     },
     "execution_count": 14,
     "metadata": {},
     "output_type": "execute_result"
    }
   ],
   "source": [
    "v.T.dot(v)"
   ]
  },
  {
   "cell_type": "markdown",
   "id": "ed1e23fa",
   "metadata": {},
   "source": [
    "### Finalmente, nos queda L infinito:"
   ]
  },
  {
   "cell_type": "code",
   "execution_count": 15,
   "id": "6a0d529d",
   "metadata": {},
   "outputs": [
    {
     "data": {
      "text/plain": [
       "6.0"
      ]
     },
     "execution_count": 15,
     "metadata": {},
     "output_type": "execute_result"
    }
   ],
   "source": [
    "np.linalg.norm(v, ord=np.inf)"
   ]
  }
 ],
 "metadata": {
  "kernelspec": {
   "display_name": "Python 3.8.10 64-bit",
   "language": "python",
   "name": "python3810jvsc74a57bd031f2aee4e71d21fbe5cf8b01ff0e069b9275f58929596ceb00d14d90e3e16cd6"
  },
  "language_info": {
   "codemirror_mode": {
    "name": "ipython",
    "version": 3
   },
   "file_extension": ".py",
   "mimetype": "text/x-python",
   "name": "python",
   "nbconvert_exporter": "python",
   "pygments_lexer": "ipython3",
   "version": "3.8.10"
  }
 },
 "nbformat": 4,
 "nbformat_minor": 5
}
