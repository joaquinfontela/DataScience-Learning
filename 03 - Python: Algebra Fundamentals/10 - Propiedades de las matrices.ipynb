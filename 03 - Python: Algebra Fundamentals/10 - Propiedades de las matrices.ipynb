{
 "cells": [
  {
   "cell_type": "markdown",
   "id": "aa255de9",
   "metadata": {},
   "source": [
    "### Propiedades de las matrices: multiplicación asociativa, distributiva, pero no conmutativa."
   ]
  },
  {
   "cell_type": "code",
   "execution_count": 2,
   "id": "1dec8456",
   "metadata": {},
   "outputs": [],
   "source": [
    "import numpy as np"
   ]
  },
  {
   "cell_type": "code",
   "execution_count": 4,
   "id": "80ad5db8",
   "metadata": {},
   "outputs": [],
   "source": [
    "A = np.array([[2,3], [5,7], [11,13]])\n",
    "B = np.array([[1,3], [2,1]])\n",
    "C = np.array([[3,1], [4,2]])"
   ]
  },
  {
   "cell_type": "code",
   "execution_count": 5,
   "id": "46c41ff5",
   "metadata": {},
   "outputs": [
    {
     "data": {
      "text/plain": [
       "array([[ True,  True],\n",
       "       [ True,  True],\n",
       "       [ True,  True]])"
      ]
     },
     "execution_count": 5,
     "metadata": {},
     "output_type": "execute_result"
    }
   ],
   "source": [
    "A.dot(B.dot(C)) == A.dot(B).dot(C)"
   ]
  },
  {
   "cell_type": "code",
   "execution_count": 6,
   "id": "1b4fef9b",
   "metadata": {},
   "outputs": [
    {
     "data": {
      "text/plain": [
       "array([[ True,  True],\n",
       "       [ True,  True],\n",
       "       [ True,  True]])"
      ]
     },
     "execution_count": 6,
     "metadata": {},
     "output_type": "execute_result"
    }
   ],
   "source": [
    "A.dot(B + C) == A.dot(B) + A.dot(C)"
   ]
  },
  {
   "cell_type": "code",
   "execution_count": 7,
   "id": "96325fb7",
   "metadata": {
    "scrolled": true
   },
   "outputs": [
    {
     "data": {
      "text/plain": [
       "array([[False, False],\n",
       "       [False, False]])"
      ]
     },
     "execution_count": 7,
     "metadata": {},
     "output_type": "execute_result"
    }
   ],
   "source": [
    "B.dot(C) == C.dot(B)"
   ]
  },
  {
   "cell_type": "markdown",
   "id": "bb46dac3",
   "metadata": {},
   "source": [
    "### La multiplicación de vectores SÍ es conmutativa:"
   ]
  },
  {
   "cell_type": "code",
   "execution_count": 8,
   "id": "e338bebb",
   "metadata": {},
   "outputs": [],
   "source": [
    "v1 = np.array([[2], [7]])\n",
    "v2 = np.array([[3], [5]])"
   ]
  },
  {
   "cell_type": "code",
   "execution_count": 9,
   "id": "8f004085",
   "metadata": {},
   "outputs": [
    {
     "data": {
      "text/plain": [
       "array([[ True]])"
      ]
     },
     "execution_count": 9,
     "metadata": {},
     "output_type": "execute_result"
    }
   ],
   "source": [
    "(v1.T).dot(v2) == (v2.T).dot(v1)"
   ]
  }
 ],
 "metadata": {
  "kernelspec": {
   "display_name": "Python 3.8.10 64-bit",
   "language": "python",
   "name": "python3810jvsc74a57bd031f2aee4e71d21fbe5cf8b01ff0e069b9275f58929596ceb00d14d90e3e16cd6"
  },
  "language_info": {
   "codemirror_mode": {
    "name": "ipython",
    "version": 3
   },
   "file_extension": ".py",
   "mimetype": "text/x-python",
   "name": "python",
   "nbconvert_exporter": "python",
   "pygments_lexer": "ipython3",
   "version": "3.8.10"
  }
 },
 "nbformat": 4,
 "nbformat_minor": 5
}
